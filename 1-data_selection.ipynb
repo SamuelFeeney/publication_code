{
 "cells": [
  {
   "cell_type": "code",
   "execution_count": 3,
   "metadata": {},
   "outputs": [],
   "source": [
    "import pandas as pd\n",
    "# import pubchempy as pcp\n",
    "import numpy as np\n",
    "from rdkit import Chem \n",
    "from rdkit import RDLogger  \n",
    "from rdkit.Chem import PandasTools, SaltRemover\n",
    "\n",
    "data = pd.DataFrame()"
   ]
  },
  {
   "cell_type": "markdown",
   "metadata": {},
   "source": [
    "# Data import\n",
    "Here i import the data from the data forms they were taken as and format them similar to each other"
   ]
  },
  {
   "cell_type": "markdown",
   "metadata": {},
   "source": [
    "## Hansen\n",
    "Hansen dataset taken from: https://pubs.acs.org/doi/10.1021/ci900161g\n",
    "Comprising 6512 molecules from CCRIS, Helma et al., Kazius et al., Feng et al., VITIC, and GeneTox databases\n",
    "Given is the SMILES, CAS No., and Ames mutagenicty\n",
    "Postivite Ames mutagenicity is defined as having a positive Ames result for any salmonella strain for either with or without S9. Based on this it is said to be more accurate as this result will not change with additional testing."
   ]
  },
  {
   "cell_type": "code",
   "execution_count": 4,
   "metadata": {},
   "outputs": [
    {
     "ename": "FileNotFoundError",
     "evalue": "[Errno 2] No such file or directory: '/home/samuel/honours_redo/1-data/datasets/Hansen_et_al_2009.csv'",
     "output_type": "error",
     "traceback": [
      "\u001b[1;31m---------------------------------------------------------------------------\u001b[0m",
      "\u001b[1;31mFileNotFoundError\u001b[0m                         Traceback (most recent call last)",
      "\u001b[1;32mc:\\Uni\\Honours\\publication_final\\1-data_selection.ipynb Cell 4'\u001b[0m in \u001b[0;36m<cell line: 3>\u001b[1;34m()\u001b[0m\n\u001b[0;32m      <a href='vscode-notebook-cell:/c%3A/Uni/Honours/publication_final/1-data_selection.ipynb#ch0000003?line=0'>1</a>\u001b[0m path_to_hansen \u001b[39m=\u001b[39m \u001b[39m'\u001b[39m\u001b[39m/home/samuel/honours_redo/1-data/datasets/Hansen_et_al_2009.csv\u001b[39m\u001b[39m'\u001b[39m\n\u001b[1;32m----> <a href='vscode-notebook-cell:/c%3A/Uni/Honours/publication_final/1-data_selection.ipynb#ch0000003?line=2'>3</a>\u001b[0m f \u001b[39m=\u001b[39m pd\u001b[39m.\u001b[39;49mread_csv(path_to_hansen, names\u001b[39m=\u001b[39;49m[\u001b[39m\"\u001b[39;49m\u001b[39msmiles\u001b[39;49m\u001b[39m\"\u001b[39;49m,\u001b[39m\"\u001b[39;49m\u001b[39mCASRN\u001b[39;49m\u001b[39m\"\u001b[39;49m, \u001b[39m\"\u001b[39;49m\u001b[39mAmes\u001b[39;49m\u001b[39m\"\u001b[39;49m])\n\u001b[0;32m      <a href='vscode-notebook-cell:/c%3A/Uni/Honours/publication_final/1-data_selection.ipynb#ch0000003?line=3'>4</a>\u001b[0m data \u001b[39m=\u001b[39m  data\u001b[39m.\u001b[39mappend(f[[\u001b[39m\"\u001b[39m\u001b[39msmiles\u001b[39m\u001b[39m\"\u001b[39m,\u001b[39m'\u001b[39m\u001b[39mCASRN\u001b[39m\u001b[39m'\u001b[39m,\u001b[39m\"\u001b[39m\u001b[39mAmes\u001b[39m\u001b[39m\"\u001b[39m]])\n\u001b[0;32m      <a href='vscode-notebook-cell:/c%3A/Uni/Honours/publication_final/1-data_selection.ipynb#ch0000003?line=4'>5</a>\u001b[0m hansen_data \u001b[39m=\u001b[39m data\n",
      "File \u001b[1;32mc:\\Users\\user.000\\anaconda3\\envs\\fuck\\lib\\site-packages\\pandas\\util\\_decorators.py:311\u001b[0m, in \u001b[0;36mdeprecate_nonkeyword_arguments.<locals>.decorate.<locals>.wrapper\u001b[1;34m(*args, **kwargs)\u001b[0m\n\u001b[0;32m    <a href='file:///c%3A/Users/user.000/anaconda3/envs/fuck/lib/site-packages/pandas/util/_decorators.py?line=304'>305</a>\u001b[0m \u001b[39mif\u001b[39;00m \u001b[39mlen\u001b[39m(args) \u001b[39m>\u001b[39m num_allow_args:\n\u001b[0;32m    <a href='file:///c%3A/Users/user.000/anaconda3/envs/fuck/lib/site-packages/pandas/util/_decorators.py?line=305'>306</a>\u001b[0m     warnings\u001b[39m.\u001b[39mwarn(\n\u001b[0;32m    <a href='file:///c%3A/Users/user.000/anaconda3/envs/fuck/lib/site-packages/pandas/util/_decorators.py?line=306'>307</a>\u001b[0m         msg\u001b[39m.\u001b[39mformat(arguments\u001b[39m=\u001b[39marguments),\n\u001b[0;32m    <a href='file:///c%3A/Users/user.000/anaconda3/envs/fuck/lib/site-packages/pandas/util/_decorators.py?line=307'>308</a>\u001b[0m         \u001b[39mFutureWarning\u001b[39;00m,\n\u001b[0;32m    <a href='file:///c%3A/Users/user.000/anaconda3/envs/fuck/lib/site-packages/pandas/util/_decorators.py?line=308'>309</a>\u001b[0m         stacklevel\u001b[39m=\u001b[39mstacklevel,\n\u001b[0;32m    <a href='file:///c%3A/Users/user.000/anaconda3/envs/fuck/lib/site-packages/pandas/util/_decorators.py?line=309'>310</a>\u001b[0m     )\n\u001b[1;32m--> <a href='file:///c%3A/Users/user.000/anaconda3/envs/fuck/lib/site-packages/pandas/util/_decorators.py?line=310'>311</a>\u001b[0m \u001b[39mreturn\u001b[39;00m func(\u001b[39m*\u001b[39margs, \u001b[39m*\u001b[39m\u001b[39m*\u001b[39mkwargs)\n",
      "File \u001b[1;32mc:\\Users\\user.000\\anaconda3\\envs\\fuck\\lib\\site-packages\\pandas\\io\\parsers\\readers.py:680\u001b[0m, in \u001b[0;36mread_csv\u001b[1;34m(filepath_or_buffer, sep, delimiter, header, names, index_col, usecols, squeeze, prefix, mangle_dupe_cols, dtype, engine, converters, true_values, false_values, skipinitialspace, skiprows, skipfooter, nrows, na_values, keep_default_na, na_filter, verbose, skip_blank_lines, parse_dates, infer_datetime_format, keep_date_col, date_parser, dayfirst, cache_dates, iterator, chunksize, compression, thousands, decimal, lineterminator, quotechar, quoting, doublequote, escapechar, comment, encoding, encoding_errors, dialect, error_bad_lines, warn_bad_lines, on_bad_lines, delim_whitespace, low_memory, memory_map, float_precision, storage_options)\u001b[0m\n\u001b[0;32m    <a href='file:///c%3A/Users/user.000/anaconda3/envs/fuck/lib/site-packages/pandas/io/parsers/readers.py?line=664'>665</a>\u001b[0m kwds_defaults \u001b[39m=\u001b[39m _refine_defaults_read(\n\u001b[0;32m    <a href='file:///c%3A/Users/user.000/anaconda3/envs/fuck/lib/site-packages/pandas/io/parsers/readers.py?line=665'>666</a>\u001b[0m     dialect,\n\u001b[0;32m    <a href='file:///c%3A/Users/user.000/anaconda3/envs/fuck/lib/site-packages/pandas/io/parsers/readers.py?line=666'>667</a>\u001b[0m     delimiter,\n\u001b[1;32m   (...)\u001b[0m\n\u001b[0;32m    <a href='file:///c%3A/Users/user.000/anaconda3/envs/fuck/lib/site-packages/pandas/io/parsers/readers.py?line=675'>676</a>\u001b[0m     defaults\u001b[39m=\u001b[39m{\u001b[39m\"\u001b[39m\u001b[39mdelimiter\u001b[39m\u001b[39m\"\u001b[39m: \u001b[39m\"\u001b[39m\u001b[39m,\u001b[39m\u001b[39m\"\u001b[39m},\n\u001b[0;32m    <a href='file:///c%3A/Users/user.000/anaconda3/envs/fuck/lib/site-packages/pandas/io/parsers/readers.py?line=676'>677</a>\u001b[0m )\n\u001b[0;32m    <a href='file:///c%3A/Users/user.000/anaconda3/envs/fuck/lib/site-packages/pandas/io/parsers/readers.py?line=677'>678</a>\u001b[0m kwds\u001b[39m.\u001b[39mupdate(kwds_defaults)\n\u001b[1;32m--> <a href='file:///c%3A/Users/user.000/anaconda3/envs/fuck/lib/site-packages/pandas/io/parsers/readers.py?line=679'>680</a>\u001b[0m \u001b[39mreturn\u001b[39;00m _read(filepath_or_buffer, kwds)\n",
      "File \u001b[1;32mc:\\Users\\user.000\\anaconda3\\envs\\fuck\\lib\\site-packages\\pandas\\io\\parsers\\readers.py:575\u001b[0m, in \u001b[0;36m_read\u001b[1;34m(filepath_or_buffer, kwds)\u001b[0m\n\u001b[0;32m    <a href='file:///c%3A/Users/user.000/anaconda3/envs/fuck/lib/site-packages/pandas/io/parsers/readers.py?line=571'>572</a>\u001b[0m _validate_names(kwds\u001b[39m.\u001b[39mget(\u001b[39m\"\u001b[39m\u001b[39mnames\u001b[39m\u001b[39m\"\u001b[39m, \u001b[39mNone\u001b[39;00m))\n\u001b[0;32m    <a href='file:///c%3A/Users/user.000/anaconda3/envs/fuck/lib/site-packages/pandas/io/parsers/readers.py?line=573'>574</a>\u001b[0m \u001b[39m# Create the parser.\u001b[39;00m\n\u001b[1;32m--> <a href='file:///c%3A/Users/user.000/anaconda3/envs/fuck/lib/site-packages/pandas/io/parsers/readers.py?line=574'>575</a>\u001b[0m parser \u001b[39m=\u001b[39m TextFileReader(filepath_or_buffer, \u001b[39m*\u001b[39m\u001b[39m*\u001b[39mkwds)\n\u001b[0;32m    <a href='file:///c%3A/Users/user.000/anaconda3/envs/fuck/lib/site-packages/pandas/io/parsers/readers.py?line=576'>577</a>\u001b[0m \u001b[39mif\u001b[39;00m chunksize \u001b[39mor\u001b[39;00m iterator:\n\u001b[0;32m    <a href='file:///c%3A/Users/user.000/anaconda3/envs/fuck/lib/site-packages/pandas/io/parsers/readers.py?line=577'>578</a>\u001b[0m     \u001b[39mreturn\u001b[39;00m parser\n",
      "File \u001b[1;32mc:\\Users\\user.000\\anaconda3\\envs\\fuck\\lib\\site-packages\\pandas\\io\\parsers\\readers.py:933\u001b[0m, in \u001b[0;36mTextFileReader.__init__\u001b[1;34m(self, f, engine, **kwds)\u001b[0m\n\u001b[0;32m    <a href='file:///c%3A/Users/user.000/anaconda3/envs/fuck/lib/site-packages/pandas/io/parsers/readers.py?line=929'>930</a>\u001b[0m     \u001b[39mself\u001b[39m\u001b[39m.\u001b[39moptions[\u001b[39m\"\u001b[39m\u001b[39mhas_index_names\u001b[39m\u001b[39m\"\u001b[39m] \u001b[39m=\u001b[39m kwds[\u001b[39m\"\u001b[39m\u001b[39mhas_index_names\u001b[39m\u001b[39m\"\u001b[39m]\n\u001b[0;32m    <a href='file:///c%3A/Users/user.000/anaconda3/envs/fuck/lib/site-packages/pandas/io/parsers/readers.py?line=931'>932</a>\u001b[0m \u001b[39mself\u001b[39m\u001b[39m.\u001b[39mhandles: IOHandles \u001b[39m|\u001b[39m \u001b[39mNone\u001b[39;00m \u001b[39m=\u001b[39m \u001b[39mNone\u001b[39;00m\n\u001b[1;32m--> <a href='file:///c%3A/Users/user.000/anaconda3/envs/fuck/lib/site-packages/pandas/io/parsers/readers.py?line=932'>933</a>\u001b[0m \u001b[39mself\u001b[39m\u001b[39m.\u001b[39m_engine \u001b[39m=\u001b[39m \u001b[39mself\u001b[39;49m\u001b[39m.\u001b[39;49m_make_engine(f, \u001b[39mself\u001b[39;49m\u001b[39m.\u001b[39;49mengine)\n",
      "File \u001b[1;32mc:\\Users\\user.000\\anaconda3\\envs\\fuck\\lib\\site-packages\\pandas\\io\\parsers\\readers.py:1217\u001b[0m, in \u001b[0;36mTextFileReader._make_engine\u001b[1;34m(self, f, engine)\u001b[0m\n\u001b[0;32m   <a href='file:///c%3A/Users/user.000/anaconda3/envs/fuck/lib/site-packages/pandas/io/parsers/readers.py?line=1212'>1213</a>\u001b[0m     mode \u001b[39m=\u001b[39m \u001b[39m\"\u001b[39m\u001b[39mrb\u001b[39m\u001b[39m\"\u001b[39m\n\u001b[0;32m   <a href='file:///c%3A/Users/user.000/anaconda3/envs/fuck/lib/site-packages/pandas/io/parsers/readers.py?line=1213'>1214</a>\u001b[0m \u001b[39m# error: No overload variant of \"get_handle\" matches argument types\u001b[39;00m\n\u001b[0;32m   <a href='file:///c%3A/Users/user.000/anaconda3/envs/fuck/lib/site-packages/pandas/io/parsers/readers.py?line=1214'>1215</a>\u001b[0m \u001b[39m# \"Union[str, PathLike[str], ReadCsvBuffer[bytes], ReadCsvBuffer[str]]\"\u001b[39;00m\n\u001b[0;32m   <a href='file:///c%3A/Users/user.000/anaconda3/envs/fuck/lib/site-packages/pandas/io/parsers/readers.py?line=1215'>1216</a>\u001b[0m \u001b[39m# , \"str\", \"bool\", \"Any\", \"Any\", \"Any\", \"Any\", \"Any\"\u001b[39;00m\n\u001b[1;32m-> <a href='file:///c%3A/Users/user.000/anaconda3/envs/fuck/lib/site-packages/pandas/io/parsers/readers.py?line=1216'>1217</a>\u001b[0m \u001b[39mself\u001b[39m\u001b[39m.\u001b[39mhandles \u001b[39m=\u001b[39m get_handle(  \u001b[39m# type: ignore[call-overload]\u001b[39;49;00m\n\u001b[0;32m   <a href='file:///c%3A/Users/user.000/anaconda3/envs/fuck/lib/site-packages/pandas/io/parsers/readers.py?line=1217'>1218</a>\u001b[0m     f,\n\u001b[0;32m   <a href='file:///c%3A/Users/user.000/anaconda3/envs/fuck/lib/site-packages/pandas/io/parsers/readers.py?line=1218'>1219</a>\u001b[0m     mode,\n\u001b[0;32m   <a href='file:///c%3A/Users/user.000/anaconda3/envs/fuck/lib/site-packages/pandas/io/parsers/readers.py?line=1219'>1220</a>\u001b[0m     encoding\u001b[39m=\u001b[39;49m\u001b[39mself\u001b[39;49m\u001b[39m.\u001b[39;49moptions\u001b[39m.\u001b[39;49mget(\u001b[39m\"\u001b[39;49m\u001b[39mencoding\u001b[39;49m\u001b[39m\"\u001b[39;49m, \u001b[39mNone\u001b[39;49;00m),\n\u001b[0;32m   <a href='file:///c%3A/Users/user.000/anaconda3/envs/fuck/lib/site-packages/pandas/io/parsers/readers.py?line=1220'>1221</a>\u001b[0m     compression\u001b[39m=\u001b[39;49m\u001b[39mself\u001b[39;49m\u001b[39m.\u001b[39;49moptions\u001b[39m.\u001b[39;49mget(\u001b[39m\"\u001b[39;49m\u001b[39mcompression\u001b[39;49m\u001b[39m\"\u001b[39;49m, \u001b[39mNone\u001b[39;49;00m),\n\u001b[0;32m   <a href='file:///c%3A/Users/user.000/anaconda3/envs/fuck/lib/site-packages/pandas/io/parsers/readers.py?line=1221'>1222</a>\u001b[0m     memory_map\u001b[39m=\u001b[39;49m\u001b[39mself\u001b[39;49m\u001b[39m.\u001b[39;49moptions\u001b[39m.\u001b[39;49mget(\u001b[39m\"\u001b[39;49m\u001b[39mmemory_map\u001b[39;49m\u001b[39m\"\u001b[39;49m, \u001b[39mFalse\u001b[39;49;00m),\n\u001b[0;32m   <a href='file:///c%3A/Users/user.000/anaconda3/envs/fuck/lib/site-packages/pandas/io/parsers/readers.py?line=1222'>1223</a>\u001b[0m     is_text\u001b[39m=\u001b[39;49mis_text,\n\u001b[0;32m   <a href='file:///c%3A/Users/user.000/anaconda3/envs/fuck/lib/site-packages/pandas/io/parsers/readers.py?line=1223'>1224</a>\u001b[0m     errors\u001b[39m=\u001b[39;49m\u001b[39mself\u001b[39;49m\u001b[39m.\u001b[39;49moptions\u001b[39m.\u001b[39;49mget(\u001b[39m\"\u001b[39;49m\u001b[39mencoding_errors\u001b[39;49m\u001b[39m\"\u001b[39;49m, \u001b[39m\"\u001b[39;49m\u001b[39mstrict\u001b[39;49m\u001b[39m\"\u001b[39;49m),\n\u001b[0;32m   <a href='file:///c%3A/Users/user.000/anaconda3/envs/fuck/lib/site-packages/pandas/io/parsers/readers.py?line=1224'>1225</a>\u001b[0m     storage_options\u001b[39m=\u001b[39;49m\u001b[39mself\u001b[39;49m\u001b[39m.\u001b[39;49moptions\u001b[39m.\u001b[39;49mget(\u001b[39m\"\u001b[39;49m\u001b[39mstorage_options\u001b[39;49m\u001b[39m\"\u001b[39;49m, \u001b[39mNone\u001b[39;49;00m),\n\u001b[0;32m   <a href='file:///c%3A/Users/user.000/anaconda3/envs/fuck/lib/site-packages/pandas/io/parsers/readers.py?line=1225'>1226</a>\u001b[0m )\n\u001b[0;32m   <a href='file:///c%3A/Users/user.000/anaconda3/envs/fuck/lib/site-packages/pandas/io/parsers/readers.py?line=1226'>1227</a>\u001b[0m \u001b[39massert\u001b[39;00m \u001b[39mself\u001b[39m\u001b[39m.\u001b[39mhandles \u001b[39mis\u001b[39;00m \u001b[39mnot\u001b[39;00m \u001b[39mNone\u001b[39;00m\n\u001b[0;32m   <a href='file:///c%3A/Users/user.000/anaconda3/envs/fuck/lib/site-packages/pandas/io/parsers/readers.py?line=1227'>1228</a>\u001b[0m f \u001b[39m=\u001b[39m \u001b[39mself\u001b[39m\u001b[39m.\u001b[39mhandles\u001b[39m.\u001b[39mhandle\n",
      "File \u001b[1;32mc:\\Users\\user.000\\anaconda3\\envs\\fuck\\lib\\site-packages\\pandas\\io\\common.py:789\u001b[0m, in \u001b[0;36mget_handle\u001b[1;34m(path_or_buf, mode, encoding, compression, memory_map, is_text, errors, storage_options)\u001b[0m\n\u001b[0;32m    <a href='file:///c%3A/Users/user.000/anaconda3/envs/fuck/lib/site-packages/pandas/io/common.py?line=783'>784</a>\u001b[0m \u001b[39melif\u001b[39;00m \u001b[39misinstance\u001b[39m(handle, \u001b[39mstr\u001b[39m):\n\u001b[0;32m    <a href='file:///c%3A/Users/user.000/anaconda3/envs/fuck/lib/site-packages/pandas/io/common.py?line=784'>785</a>\u001b[0m     \u001b[39m# Check whether the filename is to be opened in binary mode.\u001b[39;00m\n\u001b[0;32m    <a href='file:///c%3A/Users/user.000/anaconda3/envs/fuck/lib/site-packages/pandas/io/common.py?line=785'>786</a>\u001b[0m     \u001b[39m# Binary mode does not support 'encoding' and 'newline'.\u001b[39;00m\n\u001b[0;32m    <a href='file:///c%3A/Users/user.000/anaconda3/envs/fuck/lib/site-packages/pandas/io/common.py?line=786'>787</a>\u001b[0m     \u001b[39mif\u001b[39;00m ioargs\u001b[39m.\u001b[39mencoding \u001b[39mand\u001b[39;00m \u001b[39m\"\u001b[39m\u001b[39mb\u001b[39m\u001b[39m\"\u001b[39m \u001b[39mnot\u001b[39;00m \u001b[39min\u001b[39;00m ioargs\u001b[39m.\u001b[39mmode:\n\u001b[0;32m    <a href='file:///c%3A/Users/user.000/anaconda3/envs/fuck/lib/site-packages/pandas/io/common.py?line=787'>788</a>\u001b[0m         \u001b[39m# Encoding\u001b[39;00m\n\u001b[1;32m--> <a href='file:///c%3A/Users/user.000/anaconda3/envs/fuck/lib/site-packages/pandas/io/common.py?line=788'>789</a>\u001b[0m         handle \u001b[39m=\u001b[39m \u001b[39mopen\u001b[39;49m(\n\u001b[0;32m    <a href='file:///c%3A/Users/user.000/anaconda3/envs/fuck/lib/site-packages/pandas/io/common.py?line=789'>790</a>\u001b[0m             handle,\n\u001b[0;32m    <a href='file:///c%3A/Users/user.000/anaconda3/envs/fuck/lib/site-packages/pandas/io/common.py?line=790'>791</a>\u001b[0m             ioargs\u001b[39m.\u001b[39;49mmode,\n\u001b[0;32m    <a href='file:///c%3A/Users/user.000/anaconda3/envs/fuck/lib/site-packages/pandas/io/common.py?line=791'>792</a>\u001b[0m             encoding\u001b[39m=\u001b[39;49mioargs\u001b[39m.\u001b[39;49mencoding,\n\u001b[0;32m    <a href='file:///c%3A/Users/user.000/anaconda3/envs/fuck/lib/site-packages/pandas/io/common.py?line=792'>793</a>\u001b[0m             errors\u001b[39m=\u001b[39;49merrors,\n\u001b[0;32m    <a href='file:///c%3A/Users/user.000/anaconda3/envs/fuck/lib/site-packages/pandas/io/common.py?line=793'>794</a>\u001b[0m             newline\u001b[39m=\u001b[39;49m\u001b[39m\"\u001b[39;49m\u001b[39m\"\u001b[39;49m,\n\u001b[0;32m    <a href='file:///c%3A/Users/user.000/anaconda3/envs/fuck/lib/site-packages/pandas/io/common.py?line=794'>795</a>\u001b[0m         )\n\u001b[0;32m    <a href='file:///c%3A/Users/user.000/anaconda3/envs/fuck/lib/site-packages/pandas/io/common.py?line=795'>796</a>\u001b[0m     \u001b[39melse\u001b[39;00m:\n\u001b[0;32m    <a href='file:///c%3A/Users/user.000/anaconda3/envs/fuck/lib/site-packages/pandas/io/common.py?line=796'>797</a>\u001b[0m         \u001b[39m# Binary mode\u001b[39;00m\n\u001b[0;32m    <a href='file:///c%3A/Users/user.000/anaconda3/envs/fuck/lib/site-packages/pandas/io/common.py?line=797'>798</a>\u001b[0m         handle \u001b[39m=\u001b[39m \u001b[39mopen\u001b[39m(handle, ioargs\u001b[39m.\u001b[39mmode)\n",
      "\u001b[1;31mFileNotFoundError\u001b[0m: [Errno 2] No such file or directory: '/home/samuel/honours_redo/1-data/datasets/Hansen_et_al_2009.csv'"
     ]
    }
   ],
   "source": [
    "path_to_hansen = '/home/samuel/honours_redo/1-data/datasets/Hansen_et_al_2009.csv'\n",
    "\n",
    "f = pd.read_csv(path_to_hansen, names=[\"smiles\",\"CASRN\", \"Ames\"])\n",
    "data =  data.append(f[[\"smiles\",'CASRN',\"Ames\"]])\n",
    "hansen_data = data"
   ]
  },
  {
   "cell_type": "markdown",
   "metadata": {},
   "source": [
    "## Bruschweiler\n",
    "Brushweiler dataset taken from: https://www.sciencedirect.com/science/article/pii/S0273230017301812 \n",
    "Dataset made up of 23 azo dye cleavage products. Given is the CAS No, SMILES, and Ames results for S9 +/- for strain TA98 and then TA100"
   ]
  },
  {
   "cell_type": "code",
   "execution_count": null,
   "metadata": {},
   "outputs": [
    {
     "name": "stderr",
     "output_type": "stream",
     "text": [
      "<ipython-input-14-1674e8c8027c>:5: FutureWarning: The frame.append method is deprecated and will be removed from pandas in a future version. Use pandas.concat instead.\n",
      "  data =  data.append(f[[\"smiles\",'CASRN',\"Ames\"]])\n"
     ]
    }
   ],
   "source": [
    "path_to_bruschweiler = \"/home/samuel/honours_redo/1-data/datasets/Bruschweiler2017_Ames_Source.csv\"\n",
    "\n",
    "f = pd.read_csv(path_to_bruschweiler).drop(['TA98-S9','TA98+S9','TA100-S9','TA100+S9'],axis=1)\n",
    "f.rename(columns={'SMILES':'smiles','Overall':'Ames'},inplace=True)\n",
    "data =  data.append(f[[\"smiles\",'CASRN',\"Ames\"]])"
   ]
  },
  {
   "cell_type": "markdown",
   "metadata": {},
   "source": [
    "## Ates\n",
    "Ates Dataset taken from: https://doi.org/10.1093/mutage/gew008132 132 cosmetic substances taken from publicaly available information at: http://ec.europa.eu/health/scientific_committees/consumer_safety/opinions/index_en.htm Results are defined the same as in Hansen but specify that the 5 reccomended strains are tested for both S9 + and -."
   ]
  },
  {
   "cell_type": "code",
   "execution_count": null,
   "metadata": {},
   "outputs": [
    {
     "name": "stderr",
     "output_type": "stream",
     "text": [
      "<ipython-input-15-9d1246336015>:7: FutureWarning: The frame.append method is deprecated and will be removed from pandas in a future version. Use pandas.concat instead.\n",
      "  data =  data.append(f[[\"smiles\",'CASRN',\"Ames\"]])\n"
     ]
    }
   ],
   "source": [
    "path_to_Ates = '/home/samuel/honours_redo/1-data/datasets/Ates_et_at_2016.csv'\n",
    "\n",
    "f = pd.read_csv(path_to_Ates,skiprows=[0,1])\n",
    "f.rename(columns={'Cas No':'CASRN','Result Ames test':'Ames'},inplace=True)\n",
    "f[\"smiles\"] = \"not available\"\n",
    "f[\"Ames\"] = f['Ames'].apply(lambda x: 1 if x=='POS' else 0)\n",
    "data =  data.append(f[[\"smiles\",'CASRN',\"Ames\"]])"
   ]
  },
  {
   "cell_type": "markdown",
   "metadata": {},
   "source": [
    "## OECD data\n",
    "taken from the OECD toolbox using the databases available."
   ]
  },
  {
   "cell_type": "code",
   "execution_count": null,
   "metadata": {},
   "outputs": [
    {
     "name": "stderr",
     "output_type": "stream",
     "text": [
      "<ipython-input-16-853496e9464a>:13: DtypeWarning: Columns (0) have mixed types. Specify dtype option on import or set low_memory=False.\n",
      "  df = pd.read_csv(os.path.join(directory, filename), encoding='utf16')\n",
      "<ipython-input-16-853496e9464a>:26: SettingWithCopyWarning: \n",
      "A value is trying to be set on a copy of a slice from a DataFrame.\n",
      "Try using .loc[row_indexer,col_indexer] = value instead\n",
      "\n",
      "See the caveats in the documentation: https://pandas.pydata.org/pandas-docs/stable/user_guide/indexing.html#returning-a-view-versus-a-copy\n",
      "  df[\"Ames\"] = df['Value.MeanValue'].apply(lambda x: converter(x))\n",
      "<ipython-input-16-853496e9464a>:28: SettingWithCopyWarning: \n",
      "A value is trying to be set on a copy of a slice from a DataFrame.\n",
      "Try using .loc[row_indexer,col_indexer] = value instead\n",
      "\n",
      "See the caveats in the documentation: https://pandas.pydata.org/pandas-docs/stable/user_guide/indexing.html#returning-a-view-versus-a-copy\n",
      "  df[\"Ames\"] = df[\"Ames\"].astype(int)\n",
      "<ipython-input-16-853496e9464a>:29: FutureWarning: The frame.append method is deprecated and will be removed from pandas in a future version. Use pandas.concat instead.\n",
      "  data = data.append(df[[\"smiles\", \"Ames\"]])\n"
     ]
    },
    {
     "name": "stdout",
     "output_type": "stream",
     "text": [
      "NICNAS.csv DONE\n"
     ]
    },
    {
     "name": "stderr",
     "output_type": "stream",
     "text": [
      "<ipython-input-16-853496e9464a>:13: DtypeWarning: Columns (0,58,59,60,61,62,63,64,65,67,68) have mixed types. Specify dtype option on import or set low_memory=False.\n",
      "  df = pd.read_csv(os.path.join(directory, filename), encoding='utf16')\n",
      "<ipython-input-16-853496e9464a>:18: SettingWithCopyWarning: \n",
      "A value is trying to be set on a copy of a slice from a DataFrame.\n",
      "Try using .loc[row_indexer,col_indexer] = value instead\n",
      "\n",
      "See the caveats in the documentation: https://pandas.pydata.org/pandas-docs/stable/user_guide/indexing.html#returning-a-view-versus-a-copy\n",
      "  df[\"Ames\"] = df['OVERALL'].apply(lambda x: converter(x))\n",
      "<ipython-input-16-853496e9464a>:28: SettingWithCopyWarning: \n",
      "A value is trying to be set on a copy of a slice from a DataFrame.\n",
      "Try using .loc[row_indexer,col_indexer] = value instead\n",
      "\n",
      "See the caveats in the documentation: https://pandas.pydata.org/pandas-docs/stable/user_guide/indexing.html#returning-a-view-versus-a-copy\n",
      "  df[\"Ames\"] = df[\"Ames\"].astype(int)\n",
      "<ipython-input-16-853496e9464a>:29: FutureWarning: The frame.append method is deprecated and will be removed from pandas in a future version. Use pandas.concat instead.\n",
      "  data = data.append(df[[\"smiles\", \"Ames\"]])\n"
     ]
    },
    {
     "name": "stdout",
     "output_type": "stream",
     "text": [
      "DSSTOX.csv DONE\n"
     ]
    },
    {
     "name": "stderr",
     "output_type": "stream",
     "text": [
      "<ipython-input-16-853496e9464a>:13: DtypeWarning: Columns (0,58,60,61) have mixed types. Specify dtype option on import or set low_memory=False.\n",
      "  df = pd.read_csv(os.path.join(directory, filename), encoding='utf16')\n",
      "<ipython-input-16-853496e9464a>:18: SettingWithCopyWarning: \n",
      "A value is trying to be set on a copy of a slice from a DataFrame.\n",
      "Try using .loc[row_indexer,col_indexer] = value instead\n",
      "\n",
      "See the caveats in the documentation: https://pandas.pydata.org/pandas-docs/stable/user_guide/indexing.html#returning-a-view-versus-a-copy\n",
      "  df[\"Ames\"] = df['OVERALL'].apply(lambda x: converter(x))\n",
      "<ipython-input-16-853496e9464a>:28: SettingWithCopyWarning: \n",
      "A value is trying to be set on a copy of a slice from a DataFrame.\n",
      "Try using .loc[row_indexer,col_indexer] = value instead\n",
      "\n",
      "See the caveats in the documentation: https://pandas.pydata.org/pandas-docs/stable/user_guide/indexing.html#returning-a-view-versus-a-copy\n",
      "  df[\"Ames\"] = df[\"Ames\"].astype(int)\n",
      "<ipython-input-16-853496e9464a>:29: FutureWarning: The frame.append method is deprecated and will be removed from pandas in a future version. Use pandas.concat instead.\n",
      "  data = data.append(df[[\"smiles\", \"Ames\"]])\n"
     ]
    },
    {
     "name": "stdout",
     "output_type": "stream",
     "text": [
      "REACH_ECB.csv DONE\n"
     ]
    },
    {
     "name": "stderr",
     "output_type": "stream",
     "text": [
      "<ipython-input-16-853496e9464a>:13: DtypeWarning: Columns (0,58,59,60) have mixed types. Specify dtype option on import or set low_memory=False.\n",
      "  df = pd.read_csv(os.path.join(directory, filename), encoding='utf16')\n",
      "<ipython-input-16-853496e9464a>:18: SettingWithCopyWarning: \n",
      "A value is trying to be set on a copy of a slice from a DataFrame.\n",
      "Try using .loc[row_indexer,col_indexer] = value instead\n",
      "\n",
      "See the caveats in the documentation: https://pandas.pydata.org/pandas-docs/stable/user_guide/indexing.html#returning-a-view-versus-a-copy\n",
      "  df[\"Ames\"] = df['OVERALL'].apply(lambda x: converter(x))\n",
      "<ipython-input-16-853496e9464a>:28: SettingWithCopyWarning: \n",
      "A value is trying to be set on a copy of a slice from a DataFrame.\n",
      "Try using .loc[row_indexer,col_indexer] = value instead\n",
      "\n",
      "See the caveats in the documentation: https://pandas.pydata.org/pandas-docs/stable/user_guide/indexing.html#returning-a-view-versus-a-copy\n",
      "  df[\"Ames\"] = df[\"Ames\"].astype(int)\n",
      "<ipython-input-16-853496e9464a>:29: FutureWarning: The frame.append method is deprecated and will be removed from pandas in a future version. Use pandas.concat instead.\n",
      "  data = data.append(df[[\"smiles\", \"Ames\"]])\n"
     ]
    },
    {
     "name": "stdout",
     "output_type": "stream",
     "text": [
      "EINECS.csv DONE\n",
      "METI_Japan.csv DONE\n"
     ]
    },
    {
     "name": "stderr",
     "output_type": "stream",
     "text": [
      "<ipython-input-16-853496e9464a>:13: DtypeWarning: Columns (0,59) have mixed types. Specify dtype option on import or set low_memory=False.\n",
      "  df = pd.read_csv(os.path.join(directory, filename), encoding='utf16')\n",
      "<ipython-input-16-853496e9464a>:18: SettingWithCopyWarning: \n",
      "A value is trying to be set on a copy of a slice from a DataFrame.\n",
      "Try using .loc[row_indexer,col_indexer] = value instead\n",
      "\n",
      "See the caveats in the documentation: https://pandas.pydata.org/pandas-docs/stable/user_guide/indexing.html#returning-a-view-versus-a-copy\n",
      "  df[\"Ames\"] = df['OVERALL'].apply(lambda x: converter(x))\n",
      "<ipython-input-16-853496e9464a>:28: SettingWithCopyWarning: \n",
      "A value is trying to be set on a copy of a slice from a DataFrame.\n",
      "Try using .loc[row_indexer,col_indexer] = value instead\n",
      "\n",
      "See the caveats in the documentation: https://pandas.pydata.org/pandas-docs/stable/user_guide/indexing.html#returning-a-view-versus-a-copy\n",
      "  df[\"Ames\"] = df[\"Ames\"].astype(int)\n",
      "<ipython-input-16-853496e9464a>:29: FutureWarning: The frame.append method is deprecated and will be removed from pandas in a future version. Use pandas.concat instead.\n",
      "  data = data.append(df[[\"smiles\", \"Ames\"]])\n",
      "<ipython-input-16-853496e9464a>:13: DtypeWarning: Columns (0,58,61) have mixed types. Specify dtype option on import or set low_memory=False.\n",
      "  df = pd.read_csv(os.path.join(directory, filename), encoding='utf16')\n",
      "<ipython-input-16-853496e9464a>:18: SettingWithCopyWarning: \n",
      "A value is trying to be set on a copy of a slice from a DataFrame.\n",
      "Try using .loc[row_indexer,col_indexer] = value instead\n",
      "\n",
      "See the caveats in the documentation: https://pandas.pydata.org/pandas-docs/stable/user_guide/indexing.html#returning-a-view-versus-a-copy\n",
      "  df[\"Ames\"] = df['OVERALL'].apply(lambda x: converter(x))\n",
      "<ipython-input-16-853496e9464a>:28: SettingWithCopyWarning: \n",
      "A value is trying to be set on a copy of a slice from a DataFrame.\n",
      "Try using .loc[row_indexer,col_indexer] = value instead\n",
      "\n",
      "See the caveats in the documentation: https://pandas.pydata.org/pandas-docs/stable/user_guide/indexing.html#returning-a-view-versus-a-copy\n",
      "  df[\"Ames\"] = df[\"Ames\"].astype(int)\n",
      "<ipython-input-16-853496e9464a>:29: FutureWarning: The frame.append method is deprecated and will be removed from pandas in a future version. Use pandas.concat instead.\n",
      "  data = data.append(df[[\"smiles\", \"Ames\"]])\n"
     ]
    },
    {
     "name": "stdout",
     "output_type": "stream",
     "text": [
      "US_HPV_Challenge.csv DONE\n"
     ]
    },
    {
     "name": "stderr",
     "output_type": "stream",
     "text": [
      "<ipython-input-16-853496e9464a>:13: DtypeWarning: Columns (0,58,59,60,61) have mixed types. Specify dtype option on import or set low_memory=False.\n",
      "  df = pd.read_csv(os.path.join(directory, filename), encoding='utf16')\n",
      "<ipython-input-16-853496e9464a>:18: SettingWithCopyWarning: \n",
      "A value is trying to be set on a copy of a slice from a DataFrame.\n",
      "Try using .loc[row_indexer,col_indexer] = value instead\n",
      "\n",
      "See the caveats in the documentation: https://pandas.pydata.org/pandas-docs/stable/user_guide/indexing.html#returning-a-view-versus-a-copy\n",
      "  df[\"Ames\"] = df['OVERALL'].apply(lambda x: converter(x))\n",
      "<ipython-input-16-853496e9464a>:28: SettingWithCopyWarning: \n",
      "A value is trying to be set on a copy of a slice from a DataFrame.\n",
      "Try using .loc[row_indexer,col_indexer] = value instead\n",
      "\n",
      "See the caveats in the documentation: https://pandas.pydata.org/pandas-docs/stable/user_guide/indexing.html#returning-a-view-versus-a-copy\n",
      "  df[\"Ames\"] = df[\"Ames\"].astype(int)\n",
      "<ipython-input-16-853496e9464a>:29: FutureWarning: The frame.append method is deprecated and will be removed from pandas in a future version. Use pandas.concat instead.\n",
      "  data = data.append(df[[\"smiles\", \"Ames\"]])\n",
      "<ipython-input-16-853496e9464a>:13: DtypeWarning: Columns (0) have mixed types. Specify dtype option on import or set low_memory=False.\n",
      "  df = pd.read_csv(os.path.join(directory, filename), encoding='utf16')\n"
     ]
    },
    {
     "name": "stdout",
     "output_type": "stream",
     "text": [
      "ECHA_PR.csv DONE\n",
      "HPVC_OECD.csv DONE\n"
     ]
    },
    {
     "name": "stderr",
     "output_type": "stream",
     "text": [
      "<ipython-input-16-853496e9464a>:18: SettingWithCopyWarning: \n",
      "A value is trying to be set on a copy of a slice from a DataFrame.\n",
      "Try using .loc[row_indexer,col_indexer] = value instead\n",
      "\n",
      "See the caveats in the documentation: https://pandas.pydata.org/pandas-docs/stable/user_guide/indexing.html#returning-a-view-versus-a-copy\n",
      "  df[\"Ames\"] = df['OVERALL'].apply(lambda x: converter(x))\n",
      "<ipython-input-16-853496e9464a>:28: SettingWithCopyWarning: \n",
      "A value is trying to be set on a copy of a slice from a DataFrame.\n",
      "Try using .loc[row_indexer,col_indexer] = value instead\n",
      "\n",
      "See the caveats in the documentation: https://pandas.pydata.org/pandas-docs/stable/user_guide/indexing.html#returning-a-view-versus-a-copy\n",
      "  df[\"Ames\"] = df[\"Ames\"].astype(int)\n",
      "<ipython-input-16-853496e9464a>:29: FutureWarning: The frame.append method is deprecated and will be removed from pandas in a future version. Use pandas.concat instead.\n",
      "  data = data.append(df[[\"smiles\", \"Ames\"]])\n",
      "<ipython-input-16-853496e9464a>:13: DtypeWarning: Columns (0,56,57,58,59,60,61,62,63,64,65,66) have mixed types. Specify dtype option on import or set low_memory=False.\n",
      "  df = pd.read_csv(os.path.join(directory, filename), encoding='utf16')\n",
      "<ipython-input-16-853496e9464a>:18: SettingWithCopyWarning: \n",
      "A value is trying to be set on a copy of a slice from a DataFrame.\n",
      "Try using .loc[row_indexer,col_indexer] = value instead\n",
      "\n",
      "See the caveats in the documentation: https://pandas.pydata.org/pandas-docs/stable/user_guide/indexing.html#returning-a-view-versus-a-copy\n",
      "  df[\"Ames\"] = df['OVERALL'].apply(lambda x: converter(x))\n",
      "<ipython-input-16-853496e9464a>:29: FutureWarning: The frame.append method is deprecated and will be removed from pandas in a future version. Use pandas.concat instead.\n",
      "  data = data.append(df[[\"smiles\", \"Ames\"]])\n",
      "<ipython-input-16-853496e9464a>:29: FutureWarning: The frame.append method is deprecated and will be removed from pandas in a future version. Use pandas.concat instead.\n",
      "  data = data.append(df[[\"smiles\", \"Ames\"]])\n",
      "<ipython-input-16-853496e9464a>:13: DtypeWarning: Columns (0,59,60,61,62,63) have mixed types. Specify dtype option on import or set low_memory=False.\n",
      "  df = pd.read_csv(os.path.join(directory, filename), encoding='utf16')\n"
     ]
    },
    {
     "name": "stdout",
     "output_type": "stream",
     "text": [
      "TSCA.csv DONE\n",
      "COSING.csv DONE\n",
      "Canada_DSL.csv DONE\n",
      "146211\n"
     ]
    },
    {
     "name": "stderr",
     "output_type": "stream",
     "text": [
      "<ipython-input-16-853496e9464a>:18: SettingWithCopyWarning: \n",
      "A value is trying to be set on a copy of a slice from a DataFrame.\n",
      "Try using .loc[row_indexer,col_indexer] = value instead\n",
      "\n",
      "See the caveats in the documentation: https://pandas.pydata.org/pandas-docs/stable/user_guide/indexing.html#returning-a-view-versus-a-copy\n",
      "  df[\"Ames\"] = df['OVERALL'].apply(lambda x: converter(x))\n",
      "<ipython-input-16-853496e9464a>:28: SettingWithCopyWarning: \n",
      "A value is trying to be set on a copy of a slice from a DataFrame.\n",
      "Try using .loc[row_indexer,col_indexer] = value instead\n",
      "\n",
      "See the caveats in the documentation: https://pandas.pydata.org/pandas-docs/stable/user_guide/indexing.html#returning-a-view-versus-a-copy\n",
      "  df[\"Ames\"] = df[\"Ames\"].astype(int)\n",
      "<ipython-input-16-853496e9464a>:29: FutureWarning: The frame.append method is deprecated and will be removed from pandas in a future version. Use pandas.concat instead.\n",
      "  data = data.append(df[[\"smiles\", \"Ames\"]])\n"
     ]
    }
   ],
   "source": [
    "def converter(value):\n",
    "    if str(value) in ['Positive']:\n",
    "        return 1\n",
    "    elif value in ['Negative']:\n",
    "        return 0\n",
    "    else:\n",
    "        return np.nan\n",
    "\n",
    "## Adding OECD data\n",
    "directory = '/home/samuel/honours_redo/1-data/datasets/OECD_inv_data/woke'\n",
    "for filename in os.listdir(directory):\n",
    "    if filename.endswith(\".csv\"): \n",
    "        df = pd.read_csv(os.path.join(directory, filename), encoding='utf16')\n",
    "        df[\"smiles\"] = df[\"SMILES\"]\n",
    "        df['CASRN'] = df['CAS Number']\n",
    "        if \"OVERALL\" in df.columns:\n",
    "            df = df[pd.notna(df['OVERALL']) & pd.notna(df['SMILES'])]\n",
    "            df[\"Ames\"] = df['OVERALL'].apply(lambda x: converter(x))\n",
    "\n",
    "            if len(df[pd.notna(df['Ames'])]) == 0:\n",
    "                df = df[pd.notna(df['Value.MeanValue']) & pd.notna(df['SMILES'])]\n",
    "                df[\"Ames\"] = df['Value.MeanValue'].apply(lambda x: converter(x))\n",
    "\n",
    "        else:\n",
    "            df = df[pd.notna(df['Value.MeanValue']) & pd.notna(df['SMILES'])]\n",
    "            df[\"Ames\"] = df['Value.MeanValue'].apply(lambda x: converter(x))\n",
    "        df = df[pd.notna(df['Ames'])]\n",
    "        df[\"Ames\"] = df[\"Ames\"].astype(int)\n",
    "        data = data.append(df[[\"smiles\", \"Ames\"]])\n",
    "        print(filename, \"DONE\")\n",
    "print(len(data))"
   ]
  },
  {
   "cell_type": "markdown",
   "metadata": {},
   "source": [
    "# Data manipulation"
   ]
  },
  {
   "cell_type": "code",
   "execution_count": null,
   "metadata": {},
   "outputs": [],
   "source": [
    "def format_data(df):    \n",
    "    def check_Ames(df):\n",
    "        df = df[df['Ames'].isin([1,0])]\n",
    "        return df\n",
    "\n",
    "    def find_can_smi(df):\n",
    "        def try_can_smi(x):\n",
    "            if x == 'BrCc1ccc(Br)cc1' :print('BrCc1ccc(Br)cc1')\n",
    "            try:\n",
    "                return Chem.MolToSmiles(Chem.MolFromSmiles(x))\n",
    "            except:\n",
    "                print('Molecule lost:',x)\n",
    "                return \"not found\"\n",
    "        df[\"smiles\"] = df[\"smiles\"].apply(lambda x: try_can_smi(x))\n",
    "        df = df.drop_duplicates(subset=['smiles'])\n",
    "        df = df[df['smiles'] != \"not found\"]\n",
    "        return df\n",
    "    def clean_molecules(df):\n",
    "        def remove_salts(smiles):\n",
    "            if not smiles == np.nan:\n",
    "                remover = SaltRemover.SaltRemover()\n",
    "                mol = Chem.MolFromSmiles(smiles)\n",
    "                if not mol or not smiles:\n",
    "                    print(smiles)\n",
    "                    return np.nan\n",
    "                \n",
    "                res = remover.StripMol(mol)\n",
    "                if Chem.MolToSmiles(res):\n",
    "                    return Chem.MolToSmiles(res)\n",
    "                else:\n",
    "                    print(\"Molecule salt removal removed whole molecule\", smiles, \"Molecule was retained but please check\")\n",
    "                    return smiles\n",
    "            else:\n",
    "                print(smiles)\n",
    "                return np.nan\n",
    "        # def remove_solutions(smiles):\n",
    "            ####\n",
    "        df['smiles'] = df['smiles'].apply(lambda x: remove_salts(x))\n",
    "        # df['smiles'] = df['smiles'].apply(lambda x: remove_solutions(x))\n",
    "        return df\n",
    "    export_df = df.copy()\n",
    "    export_df = check_Ames(export_df)\n",
    "    export_df = find_can_smi(export_df)\n",
    "    export_df = clean_molecules(export_df)\n",
    "    return export_df\n",
    "\n",
    "def only_aromatic_amines(df):\n",
    "    def get_mol(row):\n",
    "        try:\n",
    "            mol = Chem.MolFromSmiles(row['smiles'])\n",
    "            test = Chem.MolToSmiles(mol)\n",
    "            return mol\n",
    "        except:\n",
    "            try:\n",
    "                mol = Chem.MolFromSmiles(pcp.get_compounds(row['CASRN'], 'name')[0].canonical_smiles)\n",
    "                test = Chem.MolToSmiles(mol)\n",
    "                return mol\n",
    "            except:\n",
    "                print(\"error on:\",row['smiles'],row['CASRN'])\n",
    "                return \"Not found\"\n",
    "    def AA_check(row):\n",
    "        m = get_mol(row)\n",
    "        if m != \"Not found\":\n",
    "            for a in m.GetAtoms():\n",
    "                if a.GetAtomicNum() == 7 and any([n.GetIsAromatic() for n in a.GetNeighbors()]) and not a.IsInRing()  and (a.GetFormalCharge() >= 0) and len([n.GetIsAromatic() for n in a.GetNeighbors()]) ==1:     ## Checks for a nitrogen and then if the neighbors of the nitrogen are aromatic and also checks that it isn't cationic\n",
    "                    return 1\n",
    "                else: \n",
    "                    return 0\n",
    "    export_df = df.copy()\n",
    "    export_df[\"is AA\"] = export_df.apply(lambda row: AA_check(row),axis=1)\n",
    "    export_df = export_df[export_df[\"is AA\"] == 1]\n",
    "    return export_df"
   ]
  },
  {
   "cell_type": "markdown",
   "metadata": {},
   "source": [
    "## Hansen all molecules"
   ]
  },
  {
   "cell_type": "code",
   "execution_count": null,
   "metadata": {},
   "outputs": [
    {
     "name": "stdout",
     "output_type": "stream",
     "text": [
      "Molecule lost: NNC(=O)CNC(=O)\\C=N\\#N \n",
      "Molecule lost: O=C1NC(=O)\\C(=N/#N)\\C=N1 \n",
      "Molecule lost: NC(=O)CNC(=O)\\C=N\\#N \n",
      "Molecule lost: CCCCN(CC(O)C1=C\\C(=N/#N)\\C(=O)C=C1)N=O \n",
      "Molecule lost: NC(COC(=O)\\C=N/#N)C(=O)O \n",
      "Molecule lost: CCN(CC(O)C1=CC(=O)\\C(=N\\#N)\\C=C1)N=O \n",
      "Molecule salt removal removed whole molecule CS(=O)(=O)O Molecule was retained but please check\n",
      "Molecule salt removal removed whole molecule O=C(O)[C@@H](O)[C@H](O)C(=O)O Molecule was retained but please check\n",
      "Molecule salt removal removed whole molecule CC(=O)O Molecule was retained but please check\n",
      "Molecule salt removal removed whole molecule O=C(O)C(=O)O Molecule was retained but please check\n",
      "Molecule salt removal removed whole molecule O=C(O)/C=C\\C(=O)O Molecule was retained but please check\n",
      "Molecule salt removal removed whole molecule C1CCC(NC2CCCCC2)CC1 Molecule was retained but please check\n",
      "original total: 6512\n",
      "final total: 6505\n",
      "original Ames split: yes=3503 no=3009\n",
      "final Ames split: yes=3496 no=3009\n"
     ]
    }
   ],
   "source": [
    "# I disable error logs as i account for them generally in my get mol function by searching for a better smiles using the CAS number. Please use for debugging if needed\n",
    "RDLogger.DisableLog('rdApp.*') \n",
    "data_final = format_data(hansen_data)\n",
    "a = data_final\n",
    "print(\"original total:\", len(hansen_data))\n",
    "print('final total:', len(data_final))\n",
    "print(\"original Ames split:\", \"yes=\"+str(len(hansen_data[hansen_data[\"Ames\"] == 1])), \"no=\"+str(len(hansen_data[hansen_data[\"Ames\"] == 0])))\n",
    "print(\"final Ames split:\", \"yes=\"+str(len(data_final[data_final[\"Ames\"] == 1])), \"no=\"+str(len(data_final[data_final[\"Ames\"] == 0])))\n",
    "data_final = data_final[[\"smiles\",'Ames']].reset_index(drop = True)\n",
    "b = data_final\n",
    "##### saving data in two forms\n",
    "    # csv form\n",
    "data_final.to_csv('data/raw/hansen_raw/Hansen_all_mols.csv', index=False)\n",
    "    # sdf form\n",
    "PandasTools.AddMoleculeColumnToFrame(data_final,'smiles','Molecule')\n",
    "data_final['idx'] = data_final.index\n",
    "Chem.PandasTools.WriteSDF(data_final, \"data/raw/hansen_raw/Hansen_all_mols.sdf\", molColName='Molecule', properties=list(data_final.columns), idName = \"idx\")"
   ]
  },
  {
   "cell_type": "markdown",
   "metadata": {},
   "source": [
    "## All data Aromatic amines"
   ]
  },
  {
   "cell_type": "code",
   "execution_count": null,
   "metadata": {},
   "outputs": [
    {
     "name": "stdout",
     "output_type": "stream",
     "text": [
      "original total: 146211\n",
      "final total: 457\n",
      "original Ames split: yes=38625 no=107586\n",
      "final Ames split: yes=305 no=152\n"
     ]
    }
   ],
   "source": [
    "# I disable error logs as i account for them generally in my get mol function by searching for a better smiles using the CAS number. Please use for debugging if needed\n",
    "RDLogger.DisableLog('rdApp.*') \n",
    "data_final = format_data(data)\n",
    "data_final = only_aromatic_amines(data_final)\n",
    "\n",
    "print(\"original total:\", len(data))\n",
    "print('final total:', len(data_final))\n",
    "print(\"original Ames split:\", \"yes=\"+str(len(data[data[\"Ames\"] == 1])), \"no=\"+str(len(data[data[\"Ames\"] == 0])))\n",
    "print(\"final Ames split:\", \"yes=\"+str(len(data_final[data_final[\"Ames\"] == 1])), \"no=\"+str(len(data_final[data_final[\"Ames\"] == 0])))\n",
    "data_final = data_final[[\"smiles\",'Ames']].reset_index(drop = True)\n",
    "\n",
    "##### saving data in two forms\n",
    "    # csv form\n",
    "data_final.to_csv(\"data/raw/selected_molecules.csv\", index=False)\n",
    "    # sdf form\n",
    "PandasTools.AddMoleculeColumnToFrame(data_final,'smiles','Molecule')\n",
    "data_final['idx'] = data_final.index\n",
    "Chem.PandasTools.WriteSDF(data_final, \"data/raw/selected_molecules.sdf\", molColName='Molecule', properties=list(data_final.columns), idName = \"idx\")"
   ]
  },
  {
   "cell_type": "markdown",
   "metadata": {},
   "source": [
    "TESTING OTHER AROMATIC AMINE DECIDER"
   ]
  },
  {
   "cell_type": "code",
   "execution_count": null,
   "metadata": {},
   "outputs": [],
   "source": [
    "def only_aromatic_amines_2(df):\n",
    "    def get_mol(row):\n",
    "        try:\n",
    "            mol = Chem.MolFromSmiles(row['smiles'])\n",
    "            test = Chem.MolToSmiles(mol)\n",
    "            return mol\n",
    "        except:\n",
    "            try:\n",
    "                mol = Chem.MolFromSmiles(pcp.get_compounds(row['CASRN'], 'name')[0].canonical_smiles)\n",
    "                test = Chem.MolToSmiles(mol)\n",
    "                return mol\n",
    "            except:\n",
    "                print(\"error on:\",row['smiles'],row['CASRN'])\n",
    "                return \"Not found\"\n",
    "    def aa_check_2(row):\n",
    "\n",
    "        m = get_mol(row)\n",
    "        if m != \"Not found\":\n",
    "            for a in m.GetAtoms():\n",
    "                if a.GetAtomicNum() == 7 and any([n.GetIsAromatic() for n in a.GetNeighbors()]) and not a.IsInRing()  and (a.GetFormalCharge() >= 0) and len([n.GetIsAromatic() for n in a.GetNeighbors()]) ==1:     ## Checks for a nitrogen and then if the neighbors of the nitrogen are aromatic and also checks that it isn't cationic\n",
    "                    return 1\n",
    "                else: \n",
    "                    return 0\n",
    "\n",
    "\n",
    "                    \n",
    "    export_df = df.copy()\n",
    "    export_df[\"is AA\"] = export_df.apply(lambda row: aa_check_2(row),axis=1)\n",
    "    export_df = export_df[export_df[\"is AA\"] == 1]\n",
    "    return export_df"
   ]
  }
 ],
 "metadata": {
  "interpreter": {
   "hash": "9c8956e1c5d5d3a8ae06dda0be222c7a51ecfb00452fa95ffbb603d421a7b933"
  },
  "kernelspec": {
   "display_name": "Python 3.9.7 ('fuck')",
   "language": "python",
   "name": "python3"
  },
  "language_info": {
   "codemirror_mode": {
    "name": "ipython",
    "version": 3
   },
   "file_extension": ".py",
   "mimetype": "text/x-python",
   "name": "python",
   "nbconvert_exporter": "python",
   "pygments_lexer": "ipython3",
   "version": "3.9.7"
  },
  "orig_nbformat": 4
 },
 "nbformat": 4,
 "nbformat_minor": 2
}
