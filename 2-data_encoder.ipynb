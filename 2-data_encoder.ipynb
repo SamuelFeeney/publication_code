{
 "cells": [
  {
   "cell_type": "code",
   "execution_count": 1,
   "metadata": {},
   "outputs": [],
   "source": [
    "import pandas as pd\n",
    "import rdkit\n",
    "import numpy as np\n",
    "import pickle\n",
    "import os\n",
    "import sys\n",
    "from rdkit import Chem\n",
    "from rdkit.Chem import MACCSkeys,AllChem\n",
    "from MIL_functions import data_encoding"
   ]
  },
  {
   "cell_type": "code",
   "execution_count": 2,
   "metadata": {},
   "outputs": [
    {
     "name": "stdout",
     "output_type": "stream",
     "text": [
      "Data already encoded\n"
     ]
    }
   ],
   "source": [
    "if os.path.isfile(\"data/encoded/encoded_data.dat\"):      ##  Checks if file already exists. Saves time and no changes are expected\n",
    "    print(\"Data already encoded\")\n",
    "\n",
    "else:\n",
    "    ##          Step 1: Load data into dataframes\n",
    "    data = pd.read_csv(\"data/raw/selected_molecules.csv\")\n",
    "    metabolite_data = pd.concat([pd.read_csv(\"data/raw/biotransformer_output_cyp1.csv\"), pd.read_csv(\"data/raw/biotransformer_output_phaseII.csv\")])\n",
    "\n",
    "    ##          Step 2: Normailizing metabolite smiles and matching to parent (approx 220 secs) \n",
    "    metabolite_data['smiles']           = metabolite_data['SMILES'].apply(lambda x: data_encoding.normalize_smiles(x))\n",
    "    metabolite_data['Precursor smiles']           = metabolite_data['Precursor SMILES'].apply(lambda x: data_encoding.normalize_smiles(x))\n",
    "    metabolite_data                     = metabolite_data.dropna(axis=0,subset=['smiles']);   print(\"b\")\n",
    "    metabolite_data['parent smiles']    = metabolite_data['Precursor SMILES'].apply(lambda x:data_encoding.parent_finder(x));   print(\"c\")\n",
    "\n",
    "    ##          Step 3: Pre calculating encoding for molecules, requires evaluation of lists on loading csv (approx 110 secs)\n",
    "    data[\"MACCS\"] = data_encoding.get_ml_encoding(df = data, function = MACCSkeys.GenMACCSKeys);   print(\"d\")\n",
    "    data[\"RDKF\"] = data_encoding.get_ml_encoding(df = data, function =  Chem.RDKFingerprint);   print(\"e\")\n",
    "    data[\"MACCS_MIL\"] = data.apply(lambda row: data_encoding.bag_parent(smiles = row['smiles'], met_df = metabolite_data, function = MACCSkeys.GenMACCSKeys),axis=1);   print(\"f\")\n",
    "    data[\"RDKF_MIL\"] = data.apply(lambda row: data_encoding.bag_parent(smiles = row['smiles'], met_df = metabolite_data, function = Chem.RDKFingerprint),axis=1);   print(\"g\")\n",
    "    data[\"Morgan\"] = data_encoding.get_ml_encoding(df = data, function = 'Morgan')\n",
    "    data[\"Morgan_MIL\"] = data.apply(lambda row: data_encoding.bag_parent(smiles = row['smiles'], met_df = metabolite_data, function = 'Morgan'),axis=1)\n",
    "\n",
    "    ##          Step 3: Saved to a pickle, rather than a csv this stores the lists and is much faster to load (~10x)\n",
    "    try:\n",
    "        data = data.drop([\"Molecule\"],axis=1)\n",
    "    except:\n",
    "        a=1    \n",
    "    data_encoding.create_compressed_pickle(data=data,path=\"data/encoded/encoded_data.dat\")"
   ]
  },
  {
   "cell_type": "code",
   "execution_count": 1,
   "metadata": {},
   "outputs": [
    {
     "ename": "NameError",
     "evalue": "name 'pd' is not defined",
     "output_type": "error",
     "traceback": [
      "\u001b[1;31m---------------------------------------------------------------------------\u001b[0m",
      "\u001b[1;31mNameError\u001b[0m                                 Traceback (most recent call last)",
      "\u001b[1;32mc:\\Uni\\Honours\\publication_final\\2-data_encoder.ipynb Cell 8'\u001b[0m in \u001b[0;36m<cell line: 2>\u001b[1;34m()\u001b[0m\n\u001b[0;32m      <a href='vscode-notebook-cell:/c%3A/Uni/Honours/publication_final/2-data_encoder.ipynb#ch0000009?line=0'>1</a>\u001b[0m done\u001b[39m=\u001b[39m\u001b[39m0\u001b[39m\n\u001b[0;32m      <a href='vscode-notebook-cell:/c%3A/Uni/Honours/publication_final/2-data_encoder.ipynb#ch0000009?line=1'>2</a>\u001b[0m \u001b[39mif\u001b[39;00m os\u001b[39m.\u001b[39mpath\u001b[39m.\u001b[39misfile(\u001b[39m\"\u001b[39m\u001b[39mdata/encoded/encoded_data_hansen.pk1\u001b[39m\u001b[39m\"\u001b[39m):\n\u001b[1;32m----> <a href='vscode-notebook-cell:/c%3A/Uni/Honours/publication_final/2-data_encoder.ipynb#ch0000009?line=2'>3</a>\u001b[0m     data \u001b[39m=\u001b[39m pd\u001b[39m.\u001b[39mread_pickle(\u001b[39m\"\u001b[39m\u001b[39mdata/encoded/encoded_data_hansen.pk1\u001b[39m\u001b[39m\"\u001b[39m)\n\u001b[0;32m      <a href='vscode-notebook-cell:/c%3A/Uni/Honours/publication_final/2-data_encoder.ipynb#ch0000009?line=3'>4</a>\u001b[0m     \u001b[39mif\u001b[39;00m \u001b[39mall\u001b[39m([i \u001b[39min\u001b[39;00m data\u001b[39m.\u001b[39mcolumns \u001b[39mfor\u001b[39;00m i \u001b[39min\u001b[39;00m [\u001b[39m'\u001b[39m\u001b[39mMACCS\u001b[39m\u001b[39m'\u001b[39m,\u001b[39m'\u001b[39m\u001b[39mRDKF\u001b[39m\u001b[39m'\u001b[39m,\u001b[39m'\u001b[39m\u001b[39mPaDEL\u001b[39m\u001b[39m'\u001b[39m,\u001b[39m'\u001b[39m\u001b[39mMACCS_MIL\u001b[39m\u001b[39m'\u001b[39m,\u001b[39m'\u001b[39m\u001b[39mRDKF_MIL\u001b[39m\u001b[39m'\u001b[39m,\u001b[39m'\u001b[39m\u001b[39mPaDEL_MIL\u001b[39m\u001b[39m'\u001b[39m,\u001b[39m'\u001b[39m\u001b[39mMorgan\u001b[39m\u001b[39m'\u001b[39m,\u001b[39m'\u001b[39m\u001b[39mMorgan_MIL\u001b[39m\u001b[39m'\u001b[39m]]):\n\u001b[0;32m      <a href='vscode-notebook-cell:/c%3A/Uni/Honours/publication_final/2-data_encoder.ipynb#ch0000009?line=4'>5</a>\u001b[0m         done \u001b[39m=\u001b[39m\u001b[39m1\u001b[39m\n",
      "\u001b[1;31mNameError\u001b[0m: name 'pd' is not defined"
     ]
    }
   ],
   "source": [
    "done=0\n",
    "if os.path.isfile(\"data/encoded/encoded_data_hansen.dat\"):\n",
    "    data = data_encoding.load_compressed_pickle(\"data/encoded/encoded_data_hansen.dat\")\n",
    "    if all([i in data.columns for i in ['MACCS','RDKF','PaDEL','MACCS_MIL','RDKF_MIL','PaDEL_MIL','Morgan','Morgan_MIL']]):\n",
    "        done =1\n",
    "        print(\"All data already encoded\")\n",
    "    else:\n",
    "        print('Some data already encoded')\n",
    "if not done:\n",
    "    ##          Step 1: Load data into dataframes\n",
    "    if os.path.isfile(\"data/encoded/encoded_data_hansen.dat\"):\n",
    "        data = data_encoding.load_compressed_pickle(\"data/encoded/encoded_data_hansen.dat\")\n",
    "    else:\n",
    "        data = pd.read_csv(\"data/raw/hansen_raw/Hansen_all_mols.csv\")\n",
    "    metabolite_data = pd.concat([pd.read_csv(\"data/raw/hansen_raw/biotransformer_hansen_output_cyp1.csv\"),pd.read_csv(\"data/raw/hansen_raw/biotransformer_hansen_output_phaseII.csv\")])\n",
    "\n",
    "    ##          Step 2: Normailizing metabolite smiles and matching to parent (approx 220 secs) \n",
    "    metabolite_data['smiles']           = metabolite_data['SMILES'].apply(lambda x: data_encoding.normalize_smiles(x))\n",
    "    metabolite_data['Precursor smiles'] = metabolite_data['Precursor SMILES'].apply(lambda x: data_encoding.normalize_smiles(x))\n",
    "    metabolite_data                     = metabolite_data.dropna(axis=0,subset=['smiles'])\n",
    "    metabolite_data['parent smiles']    = metabolite_data['Precursor smiles'].apply(lambda x:data_encoding.faster_parent_finder(x))\n",
    "\n",
    "    ##          Step 3: Pre calculating encoding for molecules, requires evaluation of lists on loading csv (approx 110 secs)\n",
    "    if not 'MACCS' in data.columns:\n",
    "        data[\"MACCS\"] = data_encoding.get_ml_encoding(df = data, function = MACCSkeys.GenMACCSKeys);   data_encoding.create_compressed_pickle(data=data,path=\"data/encoded/encoded_data_hansen.dat\")\n",
    "    if not 'RDKF' in data.columns:\n",
    "        data[\"RDKF\"] = data_encoding.get_ml_encoding(df = data, function =  Chem.RDKFingerprint);   data_encoding.create_compressed_pickle(data=data,path=\"data/encoded/encoded_data_hansen.dat\")\n",
    "    if not 'MACCS_MIL' in data.columns:\n",
    "        data[\"MACCS_MIL\"] = data.apply(lambda row: data_encoding.bag_parent(smiles = row['smiles'], met_df = metabolite_data, function = MACCSkeys.GenMACCSKeys),axis=1);  data_encoding.create_compressed_pickle(data=data,path=\"data/encoded/encoded_data_hansen.dat\")\n",
    "    if not 'RDKF_MIL' in data.columns:\n",
    "        data[\"RDKF_MIL\"] = data.apply(lambda row: data_encoding.bag_parent(smiles = row['smiles'], met_df = metabolite_data, function = Chem.RDKFingerprint),axis=1);  data_encoding.create_compressed_pickle(data=data,path=\"data/encoded/encoded_data_hansen.dat\")\n",
    "    if not 'Morgan' in data.columns:\n",
    "        data[\"Morgan\"] = data_encoding.get_ml_encoding(df = data, function = 'Morgan');   data_encoding.create_compressed_pickle(data=data,path=\"data/encoded/encoded_data_hansen.dat\")\n",
    "    if not 'Morgan_MIL' in data.columns:\n",
    "        data[\"Morgan_MIL\"] = data.apply(lambda row: data_encoding.bag_parent(smiles = row['smiles'], met_df = metabolite_data, function = 'Morgan'),axis=1);   data_encoding.create_compressed_pickle(data=data,path=\"data/encoded/encoded_data_hansen.dat\")\n",
    "\n",
    "    data_encoding.create_compressed_pickle(data=data,path=\"data/encoded/encoded_data_hansen.dat\")"
   ]
  }
 ],
 "metadata": {
  "interpreter": {
   "hash": "9c8956e1c5d5d3a8ae06dda0be222c7a51ecfb00452fa95ffbb603d421a7b933"
  },
  "kernelspec": {
   "display_name": "Python 3.9.7 ('fuck')",
   "language": "python",
   "name": "python3"
  },
  "language_info": {
   "codemirror_mode": {
    "name": "ipython",
    "version": 3
   },
   "file_extension": ".py",
   "mimetype": "text/x-python",
   "name": "python",
   "nbconvert_exporter": "python",
   "pygments_lexer": "ipython3",
   "version": "3.9.7"
  },
  "orig_nbformat": 4
 },
 "nbformat": 4,
 "nbformat_minor": 2
}
